{
 "cells": [
  {
   "cell_type": "code",
   "execution_count": 117,
   "metadata": {},
   "outputs": [],
   "source": [
    "import pandas as pd\n",
    "import numpy as np\n",
    "from matplotlib import pyplot as plt\n",
    "from mechanistic_model import ODE_model, prepare_ODE_model_data, fit_ODE_model\n",
    "from scipy.integrate import odeint\n",
    "from pygom import SimulateOde\n",
    "import random\n",
    "import statsmodels.api as sm\n",
    "import statsmodels.formula.api as smf\n",
    "# setting up the plotting\n",
    "plt.rcParams['figure.figsize'] = [10, 10]\n",
    "plt.rcParams['font.size'] = 12 "
   ]
  },
  {
   "cell_type": "markdown",
   "metadata": {},
   "source": [
    "# Epidemic simulaitons\n",
    "\n",
    "The model used to simulated epidemics is stored in mechanisitic_model.py alongside other utility functions. Although the model is relatively simple, care has been tkaen to ensure erlang distributed exposed and infected compartments, as well as accounting for detcted and undetected cases. \n",
    "\n",
    "## Model\n",
    "\n",
    "The following ODE model is used to simulate cases:\n",
    "\n",
    "\\begin{align}\n",
    " \\label{S}\n",
    "    \\frac{dS}{dt} &= -\\beta S \\frac{I}{N_0- I} \\\\\n",
    " \\label{E0}\n",
    "    \\frac{dE_0}{dt} &= \\beta S \\frac{I}{N_0- I} - \\alpha_0 E_0 \\\\\n",
    " \\label{E1}\n",
    "    \\frac{dE_1}{dt} &= \\alpha_0 E_0 - \\alpha_1 E_1 \\\\\n",
    "\\label{E2}\n",
    "    \\frac{dE_2}{dt} &= \\alpha_1 E_1 - \\alpha_2 E_2 \\\\\n",
    " \\label{I0}\n",
    "    \\frac{dI_0}{dt} &= \\alpha_2 E_2 - \\gamma \\\\\n",
    " \\label{Id}\n",
    "    \\frac{dI_d}{dt} &= k \\cdot \\gamma I_0 - \\delta_d I_d \\\\\n",
    " \\label{Iu}\n",
    "    \\frac{dI_u}{dt} &= (1-k) \\cdot \\gamma I_0 - \\delta_u I_u \\\\\n",
    " \\label{R}\n",
    "    \\frac{dR}{dt} &= \\delta_d I_d + \\delta_u I_u\n",
    "\\end{align}\n",
    "\n",
    "Where $I_d$ and $I_u$ refer to detected and undetected cases respectively.  Note that becase we are using cumulative case numbers, the code contains an extra psuedo-compartment $I_{cum}$ which collects all individuals passing out of the $I_0$ compartment and into $I_d$. The $R$ compartment refers to both recoveries and deaths.\n",
    "\n",
    "All dates are inputted relative to the first day in the dataset. The 'assumed_lag' parameter dictates how many post-intervention data points are included in the fitting process. This allows for the incorporation of more data points, but care should betaken to ensure it remains below the incubaiton period of the disease."
   ]
  },
  {
   "cell_type": "code",
   "execution_count": 118,
   "metadata": {},
   "outputs": [],
   "source": [
    "# Funcitons for weighting and parameterising the NegBinomLoss function\n",
    "\n",
    "def calculate_fit_weights(data):\n",
    "    weights = [1]\n",
    "    \n",
    "    for x in range(1, len(data)):\n",
    "        if data[x] == 0:\n",
    "            weight = 0.0001\n",
    "        else:\n",
    "            weight = (data[x] - data[x-1])/data[x]\n",
    "        \n",
    "        if weight == 0:\n",
    "            weight = 0.00001 # Note weights can not be zero\n",
    "        weights.append(weight)\n",
    "    return weights\n",
    "\n",
    "# Estimating alpha for NegBinomLoss \n",
    "# adapted from https://towardsdatascience.com/negative-binomial-regression-f99031bb25b4\n",
    "def fit_poisson(endog, exog, weights):\n",
    "    poiss = sm.GLM(endog, exog, family=sm.families.Poisson(), weights=weights).fit()\n",
    "    lambdas = poiss.mu\n",
    "    df_train = pd.DataFrame(columns=['BB_count', 'BB_lambda', 'Aux_OLS_dep'])\n",
    "    df_train['BB_count']=endog\n",
    "    df_train['BB_lambda']=lambdas\n",
    "    return df_train\n",
    "\n",
    "\n",
    "def fit_auxiliary_OLS(df_train):\n",
    "    df_train['Aux_OLS_dep'] = df_train.apply(lambda x:\\\n",
    "                                             ((x['BB_count']\\\n",
    "                                               - x['BB_lambda'])**2 \\\n",
    "                                               - x['BB_count'])\\\n",
    "                                               / x['BB_lambda'], axis=1)   \n",
    "    ols_expr = \"\"\"Aux_OLS_dep ~ BB_lambda - 1\"\"\"\n",
    "    aux_olsr_results = smf.ols(ols_expr, df_train).fit()\n",
    "    return aux_olsr_results.params.BB_lambda\n",
    "\n",
    "\n",
    "def estimate_over_dispersion(data, weights):\n",
    "    endog = data\n",
    "    exog = np.linspace(0, len(data)-1, len(data))\n",
    "    df_train = fit_poisson(endog, exog, weights)\n",
    "    alpha = fit_auxiliary_OLS(df_train)\n",
    "    k = 1/alpha\n",
    "    return k"
   ]
  },
  {
   "cell_type": "code",
   "execution_count": 119,
   "metadata": {},
   "outputs": [],
   "source": [
    "nat_pop_dict = {'DK':5.8e6, 'NO':5.37e6, 'SE':1.02e7}\n",
    "int_day_dict = {'SE':47, 'DK':12, 'NO':4}"
   ]
  },
  {
   "cell_type": "code",
   "execution_count": 120,
   "metadata": {},
   "outputs": [],
   "source": [
    "# Specify parameters\n",
    "country = 'SE' # Two letter country code\n",
    "metric = 'cases' # 'cases' or 'hospitalisations'\n",
    "N0 = nat_pop_dict[country]\n",
    "start_date = 0 # Pretty much always zero...\n",
    "int_date = int_day_dict[country]-start_date # Date of closures\n",
    "end_date = 70 # Final date of simulation\n",
    "assumed_lag = 5 # 5 days for cases and hospitalisations\n",
    "num_sims = 150 # Number of posterior parameterisations"
   ]
  },
  {
   "cell_type": "code",
   "execution_count": 121,
   "metadata": {},
   "outputs": [],
   "source": [
    "# Load in the data and extract the useful parts\n",
    "nat_data = pd.read_csv('raw_data/{}_data.csv'.format(country))[start_date:]\n",
    "nat_data = nat_data.filter([metric]) \n",
    "nat_data = nat_data.dropna(axis=0)\n",
    "# Want to save this as a seperate dataframe\n",
    "df = pd.DataFrame(columns=[metric])\n",
    "df[metric] = [int(x) for x in nat_data[metric]]\n",
    "df.to_csv('GP_input_data/{}_{}_data.csv'.format(country, metric))"
   ]
  },
  {
   "cell_type": "markdown",
   "metadata": {},
   "source": [
    "## ABC fitting\n",
    "Functions initialising and running the ABC fitting process can be found in mechanisitic_model.py. Posteriors are estimated for all parameters, with the exception of $\\alpha_i$, which is set to 1.7, such that $\\sum_{i=0}^2\\alpha_i = 5.1$ - a reasonable approximation of the known incubation period of Covid-19. Initial Exposed populaiton is also estimated during the ABC fitting process. "
   ]
  },
  {
   "cell_type": "code",
   "execution_count": 151,
   "metadata": {},
   "outputs": [],
   "source": [
    "# Preparations for ABC fitting\n",
    "fit_data, fit_end_point = prepare_ODE_model_data(df=nat_data, \n",
    "                                                 fit_to=metric, \n",
    "                                                 N_to_fit=int_date+assumed_lag)\n",
    "# Estimate over dispersion (k) of fitting data and calculate weightings\n",
    "weights = calculate_fit_weights(fit_data)\n",
    "k = estimate_over_dispersion(fit_data, weights)\n",
    "# A poisson distribution works a lot better for Sweden due to inconsistencies in early growth rate:\n",
    "#if country == 'SE':\n",
    "#    k = k*2000\n",
    "#if k < 0:\n",
    "#    k = -k"
   ]
  },
  {
   "cell_type": "code",
   "execution_count": 152,
   "metadata": {},
   "outputs": [
    {
     "data": {
      "text/plain": [
       "array([   1,    1,    1,    1,    1,    1,    1,    1,    1,    1,    1,\n",
       "          1,    1,    1,    1,    1,    1,    1,    1,    1,    1,    1,\n",
       "          1,    1,    1,    1,    2,    3,   11,   14,   14,   19,   32,\n",
       "         62,   87,  146,  179,  225,  326,  424,  620,  771,  923,  994,\n",
       "       1063, 1146, 1265, 1410, 1553, 1733, 1867, 1983])"
      ]
     },
     "execution_count": 152,
     "metadata": {},
     "output_type": "execute_result"
    }
   ],
   "source": [
    "fit_data"
   ]
  },
  {
   "cell_type": "code",
   "execution_count": 153,
   "metadata": {},
   "outputs": [
    {
     "name": "stdout",
     "output_type": "stream",
     "text": [
      "Using NegBinomLoss\n",
      "Generation 1 \n",
      " tolerance = inf \n",
      " acceptance rate = 100.00%\n",
      "\n",
      "Generation 2 \n",
      " tolerance = 6372.48970 \n",
      " acceptance rate = 2.97%\n",
      "\n",
      "Generation 3 \n",
      " tolerance = 4070.32230 \n",
      " acceptance rate = 4.78%\n",
      "\n",
      "Generation 4 \n",
      " tolerance = 2147.96664 \n",
      " acceptance rate = 3.41%\n",
      "\n",
      "Generation 5 \n",
      " tolerance = 985.79416 \n",
      " acceptance rate = 3.61%\n",
      "\n",
      "Generation 6 \n",
      " tolerance = 568.33425 \n",
      " acceptance rate = 3.29%\n",
      "\n",
      "Generation 7 \n",
      " tolerance = 443.87739 \n",
      " acceptance rate = 3.10%\n",
      "\n",
      "Generation 8 \n",
      " tolerance = 365.74003 \n",
      " acceptance rate = 2.82%\n",
      "\n",
      "Generation 9 \n",
      " tolerance = 323.75598 \n",
      " acceptance rate = 2.30%\n",
      "\n",
      "Generation 10 \n",
      " tolerance = 296.16119 \n",
      " acceptance rate = 2.15%\n",
      "\n"
     ]
    }
   ],
   "source": [
    "# Run ABC fitting. 10 generations is usually sufficient. \n",
    "ode_model, fitted_model = fit_ODE_model(full_data=nat_data,\n",
    "                                         fit_data=fit_data, \n",
    "                                         fit_to=metric, \n",
    "                                         fit_end_point=fit_end_point,\n",
    "                                         weights=weights,\n",
    "                                         k=k*np.ones(len(fit_data)),\n",
    "                                         N0=N0,\n",
    "                                         generations=10)        "
   ]
  },
  {
   "cell_type": "markdown",
   "metadata": {},
   "source": [
    "# Simulation \n",
    "\n",
    "A random selection of posteriors generated by the ABC fitting method are used to produce a simulated epidemic curve. Since the ABC fitting is done up to (or just past) intervention, it can be assumed that these can act as counter factuals to the observed cases under intervention. \n"
   ]
  },
  {
   "cell_type": "code",
   "execution_count": 154,
   "metadata": {},
   "outputs": [
    {
     "name": "stdout",
     "output_type": "stream",
     "text": [
      "Simulating posterioir 0\n",
      "Simulating posterioir 1\n",
      "Simulating posterioir 2\n",
      "Simulating posterioir 3\n",
      "Simulating posterioir 4\n",
      "Simulating posterioir 5\n",
      "Simulating posterioir 6\n",
      "Simulating posterioir 7\n",
      "Simulating posterioir 8\n",
      "Simulating posterioir 9\n",
      "Simulating posterioir 10\n",
      "Simulating posterioir 11\n",
      "Simulating posterioir 12\n",
      "Simulating posterioir 13\n",
      "Simulating posterioir 14\n",
      "Simulating posterioir 15\n",
      "Simulating posterioir 16\n",
      "Simulating posterioir 17\n",
      "Simulating posterioir 18\n",
      "Simulating posterioir 19\n",
      "Simulating posterioir 20\n",
      "Simulating posterioir 21\n",
      "Simulating posterioir 22\n",
      "Simulating posterioir 23\n",
      "Simulating posterioir 24\n",
      "Simulating posterioir 25\n",
      "Simulating posterioir 26\n",
      "Simulating posterioir 27\n",
      "Simulating posterioir 28\n",
      "Simulating posterioir 29\n",
      "Simulating posterioir 30\n",
      "Simulating posterioir 31\n",
      "Simulating posterioir 32\n",
      "Simulating posterioir 33\n",
      "Simulating posterioir 34\n",
      "Simulating posterioir 35\n",
      "Simulating posterioir 36\n",
      "Simulating posterioir 37\n",
      "Simulating posterioir 38\n",
      "Simulating posterioir 39\n",
      "Simulating posterioir 40\n",
      "Simulating posterioir 41\n",
      "Simulating posterioir 42\n",
      "Simulating posterioir 43\n",
      "Simulating posterioir 44\n",
      "Simulating posterioir 45\n",
      "Simulating posterioir 46\n",
      "Simulating posterioir 47\n",
      "Simulating posterioir 48\n",
      "Simulating posterioir 49\n",
      "Simulating posterioir 50\n",
      "Simulating posterioir 51\n",
      "Simulating posterioir 52\n",
      "Simulating posterioir 53\n",
      "Simulating posterioir 54\n",
      "Simulating posterioir 55\n",
      "Simulating posterioir 56\n",
      "Simulating posterioir 57\n",
      "Simulating posterioir 58\n",
      "Simulating posterioir 59\n",
      "Simulating posterioir 60\n",
      "Simulating posterioir 61\n",
      "Simulating posterioir 62\n",
      "Simulating posterioir 63\n",
      "Simulating posterioir 64\n",
      "Simulating posterioir 65\n",
      "Simulating posterioir 66\n",
      "Simulating posterioir 67\n",
      "Simulating posterioir 68\n",
      "Simulating posterioir 69\n",
      "Simulating posterioir 70\n",
      "Simulating posterioir 71\n",
      "Simulating posterioir 72\n",
      "Simulating posterioir 73\n",
      "Simulating posterioir 74\n",
      "Simulating posterioir 75\n",
      "Simulating posterioir 76\n",
      "Simulating posterioir 77\n",
      "Simulating posterioir 78\n",
      "Simulating posterioir 79\n",
      "Simulating posterioir 80\n",
      "Simulating posterioir 81\n",
      "Simulating posterioir 82\n",
      "Simulating posterioir 83\n",
      "Simulating posterioir 84\n",
      "Simulating posterioir 85\n",
      "Simulating posterioir 86\n",
      "Simulating posterioir 87\n",
      "Simulating posterioir 88\n",
      "Simulating posterioir 89\n",
      "Simulating posterioir 90\n",
      "Simulating posterioir 91\n",
      "Simulating posterioir 92\n",
      "Simulating posterioir 93\n",
      "Simulating posterioir 94\n",
      "Simulating posterioir 95\n",
      "Simulating posterioir 96\n",
      "Simulating posterioir 97\n",
      "Simulating posterioir 98\n",
      "Simulating posterioir 99\n",
      "Simulating posterioir 100\n",
      "Simulating posterioir 101\n",
      "Simulating posterioir 102\n",
      "Simulating posterioir 103\n",
      "Simulating posterioir 104\n",
      "Simulating posterioir 105\n",
      "Simulating posterioir 106\n",
      "Simulating posterioir 107\n",
      "Simulating posterioir 108\n",
      "Simulating posterioir 109\n",
      "Simulating posterioir 110\n",
      "Simulating posterioir 111\n",
      "Simulating posterioir 112\n",
      "Simulating posterioir 113\n",
      "Simulating posterioir 114\n",
      "Simulating posterioir 115\n",
      "Simulating posterioir 116\n",
      "Simulating posterioir 117\n",
      "Simulating posterioir 118\n",
      "Simulating posterioir 119\n",
      "Simulating posterioir 120\n",
      "Simulating posterioir 121\n",
      "Simulating posterioir 122\n",
      "Simulating posterioir 123\n",
      "Simulating posterioir 124\n",
      "Simulating posterioir 125\n",
      "Simulating posterioir 126\n",
      "Simulating posterioir 127\n",
      "Simulating posterioir 128\n",
      "Simulating posterioir 129\n",
      "Simulating posterioir 130\n",
      "Simulating posterioir 131\n",
      "Simulating posterioir 132\n",
      "Simulating posterioir 133\n",
      "Simulating posterioir 134\n",
      "Simulating posterioir 135\n",
      "Simulating posterioir 136\n",
      "Simulating posterioir 137\n",
      "Simulating posterioir 138\n",
      "Simulating posterioir 139\n",
      "Simulating posterioir 140\n",
      "Simulating posterioir 141\n",
      "Simulating posterioir 142\n",
      "Simulating posterioir 143\n",
      "Simulating posterioir 144\n",
      "Simulating posterioir 145\n",
      "Simulating posterioir 146\n",
      "Simulating posterioir 147\n",
      "Simulating posterioir 148\n",
      "Simulating posterioir 149\n"
     ]
    }
   ],
   "source": [
    "model = ode_model\n",
    "times = np.linspace(0,end_date-1,end_date)\n",
    "\n",
    "curve_idx_dict = {'cases':7, 'hospitalisations':7, 'tot_hosps':5, 'new_cases':5}\n",
    "curve_idx = curve_idx_dict[metric]\n",
    "n = 0\n",
    "pred = np.zeros((num_sims,len(times)))\n",
    "sim = np.zeros((num_sims,len(times)))\n",
    "I0 = 0\n",
    "Eb0 = 0\n",
    "Ec0 = 0\n",
    "Id0 = 0\n",
    "Iu0 = 0\n",
    "R0  = 0\n",
    "Id_cum0 = 0\n",
    "null_series = 0\n",
    "\n",
    "for i in range(num_sims):\n",
    "    print('Simulating posterioir {}'.format(i))\n",
    "    p_beta, p_gamma, p_kappa, p_delta1, p_delta2, p_Ea0, p_Eb0, p_Ec0, p_I0, p_Id0, p_Iu0 = fitted_model.res[i]\n",
    "    model.parameters = {'beta':p_beta,\n",
    "                        'alpha0':1.6,\n",
    "                        'alpha1':1.6,\n",
    "                        'alpha2':1.6,\n",
    "                        'gamma':p_gamma, \n",
    "                        'kappa':p_kappa,\n",
    "                        'delta1':p_delta1,\n",
    "                        'delta2':p_delta2,\n",
    "                        'N0':N0}\n",
    "\n",
    "    solution = odeint(model.ode,[N0-(p_Ea0+p_Eb0+p_Ec0+p_I0+p_Id0+p_Iu0+R0), \n",
    "                                 np.round(p_Ea0),np.round(p_Eb0),np.round(p_Ec0), np.round(p_I0), np.round(p_Id0)\n",
    "                                 , np.round(p_Iu0), Id_cum0, R0],times).T[curve_idx]\n",
    "    if sum(solution) != 0:\n",
    "        pred[i] = solution\n"
   ]
  },
  {
   "cell_type": "code",
   "execution_count": 155,
   "metadata": {},
   "outputs": [],
   "source": [
    "# Store the simulated data\n",
    "simulated_data = {}\n",
    "for idx, data in enumerate(pred):\n",
    "    simulated_data.update({idx:data})"
   ]
  },
  {
   "cell_type": "code",
   "execution_count": 156,
   "metadata": {},
   "outputs": [],
   "source": [
    "# Save the results\n",
    "det_df = pd.DataFrame.from_dict(simulated_data)\n",
    "# Generally only interested in stochastic data, although deterministic can be useful for longer sims.\n",
    "det_df.to_csv('simulated_data/simulated_{}_{}.csv'.format(metric, country))"
   ]
  },
  {
   "cell_type": "code",
   "execution_count": 157,
   "metadata": {},
   "outputs": [
    {
     "data": {
      "text/plain": [
       "(0, 10000)"
      ]
     },
     "execution_count": 157,
     "metadata": {},
     "output_type": "execute_result"
    },
    {
     "data": {
      "image/png": "[encoded data removed]",
      "text/plain": [
       "<Figure size 720x720 with 1 Axes>"
      ]
     },
     "metadata": {
      "needs_background": "light"
     },
     "output_type": "display_data"
    }
   ],
   "source": [
    "# Plot to check everything looks sensible.\n",
    "#start_date = int_date-10\n",
    "df = pd.read_csv('simulated_data/simulated_{}_{}.csv'.format(metric, country))\n",
    "for x in range(100):\n",
    "    plt.plot(pred[x][start_date:], 'r', alpha=0.2)\n",
    "t = np.linspace(0,end_date-1,end_date)\n",
    "plt.plot(t, nat_data[metric][:end_date], 'x', label = 'Observed data')\n",
    "plt.plot(np.median(pred, axis=0)[start_date:end_date], 'k--', label = 'Median forecast')\n",
    "plt.title('ABC Posteriors for {}'.format(country))\n",
    "plt.ylabel('Cumulative cases')\n",
    "plt.xlabel('Days')\n",
    "plt.axvline(x=int_date, linewidth=4, color=\"r\")\n",
    "#plt.axvline(x=int_date+assumed_lag, linewidth=2, color=\"r\")\n",
    "plt.legend()\n",
    "plt.ylim([0, 10000])\n",
    "#plt.xlim([0,30])\n",
    "#plt.yscale('log')"
   ]
  },
  {
   "cell_type": "code",
   "execution_count": 158,
   "metadata": {},
   "outputs": [],
   "source": [
    "## Check that num observations and num simulated data points are the same!\n",
    "assert len(pred[0])==len(nat_data[metric][start_date:end_date])\n"
   ]
  },
  {
   "cell_type": "code",
   "execution_count": 159,
   "metadata": {},
   "outputs": [
    {
     "data": {
      "text/plain": [
       "70"
      ]
     },
     "execution_count": 159,
     "metadata": {},
     "output_type": "execute_result"
    }
   ],
   "source": [
    "len(pred[0])"
   ]
  },
  {
   "cell_type": "code",
   "execution_count": null,
   "metadata": {},
   "outputs": [],
   "source": [
    "len"
   ]
  }
 ],
 "metadata": {
  "kernelspec": {
   "display_name": "Python 3",
   "language": "python",
   "name": "python3"
  },
  "language_info": {
   "codemirror_mode": {
    "name": "ipython",
    "version": 3
   },
   "file_extension": ".py",
   "mimetype": "text/x-python",
   "name": "python",
   "nbconvert_exporter": "python",
   "pygments_lexer": "ipython3",
   "version": "3.7.7"
  }
 },
 "nbformat": 4,
 "nbformat_minor": 4
}
